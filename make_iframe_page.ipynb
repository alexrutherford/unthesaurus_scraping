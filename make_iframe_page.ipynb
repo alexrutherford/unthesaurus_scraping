{
 "cells": [
  {
   "cell_type": "code",
   "execution_count": 2,
   "metadata": {
    "collapsed": false
   },
   "outputs": [],
   "source": [
    "import json\n",
    "import csv,re,os,sys"
   ]
  },
  {
   "cell_type": "code",
   "execution_count": 3,
   "metadata": {
    "collapsed": true
   },
   "outputs": [],
   "source": [
    "with open('ontology.json','r') as inFile:\n",
    "    d=json.loads(inFile.read())"
   ]
  },
  {
   "cell_type": "code",
   "execution_count": 143,
   "metadata": {
    "collapsed": false
   },
   "outputs": [],
   "source": [
    "header=\"\"\"<style type=\"text/css\">\\n.iframe {\\\n",
    "  margin-top: 20px;\\\n",
    "  margin-bottom: 30px;\\n\\\n",
    "  .h1 {\\\n",
    "  font-size:48px;\\\n",
    "  align:center;\\\n",
    "}\\\n",
    "}</style>\\n\"\"\""
   ]
  },
  {
   "cell_type": "code",
   "execution_count": 74,
   "metadata": {
    "collapsed": true
   },
   "outputs": [],
   "source": [
    "termsFile=csv.reader(open('out.csv','r'),delimiter='\\t')\n",
    "termsDict={}\n",
    "\n",
    "for line in termsFile:\n",
    "    termsDict[line[2]]=line[0:2]\n",
    "    termsDict[line[2]].extend(line[3:]+[line[2]])\n",
    "    # Dictionary of each term in thesaurus, Key is English term, value is list of translations [AR,CN,FR,RU,FR,EN]\n",
    "    # e.g. termsDict['electronic publications']=['لمنشورات الإلكترونية','电子出版物','publications electroniques'\n",
    "    # 'Электронные издания','publicaciones electronicas','electronic publications']\n"
   ]
  },
  {
   "cell_type": "code",
   "execution_count": 4,
   "metadata": {
    "collapsed": false
   },
   "outputs": [
    {
     "data": {
      "text/plain": [
       "[u'RU', u'FR', u'EN', u'CN', u'AR', u'ES']"
      ]
     },
     "execution_count": 4,
     "metadata": {},
     "output_type": "execute_result"
    }
   ],
   "source": [
    "d.keys()"
   ]
  },
  {
   "cell_type": "code",
   "execution_count": 6,
   "metadata": {
    "collapsed": false
   },
   "outputs": [
    {
     "name": "stdout",
     "output_type": "stream",
     "text": [
      "RU 7107\n",
      "FR 7116\n",
      "EN 7118\n",
      "CN 7055\n",
      "AR 7082\n",
      "ES 7117\n"
     ]
    }
   ],
   "source": [
    "for lang in d.keys():\n",
    "    print lang,len(d[lang].keys())"
   ]
  },
  {
   "cell_type": "code",
   "execution_count": 19,
   "metadata": {
    "collapsed": true
   },
   "outputs": [],
   "source": [
    "srcString='\"https://books.google.com/ngrams/interactive_chart?content=peace%2Cwar&year_start=1800&year_end=2000&corpus=18&smoothing=0&share=&direct_url=t1%3B%2Cpeace%3B%2Cc0%3B.t1%3B%2Cwar%3B%2Cc0\"'"
   ]
  },
  {
   "cell_type": "code",
   "execution_count": 20,
   "metadata": {
    "collapsed": false
   },
   "outputs": [
    {
     "data": {
      "text/plain": [
       "'\"https://books.google.com/ngrams/interactive_chart?content=peace%2Cwar&year_start=1800&year_end=2000&corpus=18&smoothing=0&share=&direct_url=t1%3B%2Cpeace%3B%2Cc0%3B.t1%3B%2Cwar%3B%2Cc0\"'"
      ]
     },
     "execution_count": 20,
     "metadata": {},
     "output_type": "execute_result"
    }
   ],
   "source": [
    "srcString"
   ]
  },
  {
   "cell_type": "code",
   "execution_count": 26,
   "metadata": {
    "collapsed": true
   },
   "outputs": [],
   "source": [
    "from IPython.display import IFrame"
   ]
  },
  {
   "cell_type": "code",
   "execution_count": 136,
   "metadata": {
    "collapsed": false
   },
   "outputs": [],
   "source": [
    "def getIframeSource(terms,nLang=u'EN'):\n",
    "    corpusHash={u'CN':23,u'FR':19,u'EN':15,u'RU':25,u'ES':21}\n",
    "    corpusId=corpusHash[nLang]\n",
    "    corpusId=unicode(corpusId)\n",
    "    print corpusId,terms\n",
    "    print type(terms[0]),type(corpusId)\n",
    "    terms=[term.decode('utf-8') for term in terms]\n",
    "    \n",
    "    height=u'350'\n",
    "    \n",
    "    if len(terms)==1:\n",
    "        returnString=u'<iframe name=\"ngram_chart\" src=\"https://books.google.com/ngrams/interactive_chart?content='\n",
    "        returnString+=terms[0]\n",
    "        returnString+=u'&year_start=1800&year_end=2000&case_insensitive=on&corpus='\n",
    "        returnString+=corpusId\n",
    "        returnString+=u'&smoothing=0&share=&direct_url=t1%3B%2C'\n",
    "        returnString+=terms[0]\n",
    "        returnString+=u'%3B%2Cc0\" width=900 height='+height+' marginwidth=0 marginheight=0 hspace=-100 vspace=0 frameborder=0 scrolling=no></iframe>'\n",
    "        return returnString\n",
    "    else:\n",
    "        return u'<iframe name=\"ngram_chart\" src=\"https://books.google.com/ngrams/interactive_chart?content='\\\n",
    "        +u'%2C'.join(terms)+u'&year_start=1800&year_end=2000&case_insensitive=on&corpus='+corpusId+'&smoothing=0&share=&direct_url=t1%3B%2C'+'%2C'.join(terms)+u'%3B%2Cc0\" width=900 height=500 marginwidth=0 marginheight=0 hspace=-100 vspace=0 frameborder=0 scrolling=no></iframe>'"
   ]
  },
  {
   "cell_type": "code",
   "execution_count": 116,
   "metadata": {
    "collapsed": false
   },
   "outputs": [
    {
     "data": {
      "text/plain": [
       "u'\\\\\\u062c\\\\\\u0647\\\\\\u0627\\\\\\u062f'"
      ]
     },
     "execution_count": 116,
     "metadata": {},
     "output_type": "execute_result"
    }
   ],
   "source": [
    "re.escape(u'جهاد')"
   ]
  },
  {
   "cell_type": "code",
   "execution_count": 147,
   "metadata": {
    "collapsed": true
   },
   "outputs": [],
   "source": [
    "def writeLang(l):htmlFile.write('<h1 align=\"center\">%s</h1>' % l)"
   ]
  },
  {
   "cell_type": "code",
   "execution_count": 148,
   "metadata": {
    "collapsed": false
   },
   "outputs": [
    {
     "name": "stdout",
     "output_type": "stream",
     "text": [
      "differential equations differential\\ equations\n",
      "15 [u'differential equations']\n",
      "<type 'unicode'> <type 'unicode'>\n",
      "23 ['\\xe5\\xbe\\xae\\xe5\\x88\\x86\\xe6\\x96\\xb9\\xe7\\xa8\\x8b']\n",
      "<type 'str'> <type 'unicode'>\n",
      "19 ['equations differentielles']\n",
      "<type 'str'> <type 'unicode'>\n",
      "25 ['\\xd0\\x94\\xd0\\xb8\\xd1\\x84\\xd1\\x84\\xd0\\xb5\\xd1\\x80\\xd0\\xb5\\xd0\\xbd\\xd1\\x86\\xd0\\xb8\\xd0\\xb0\\xd0\\xbb\\xd1\\x8c\\xd0\\xbd\\xd1\\x8b\\xd0\\xb5 \\xd1\\x83\\xd1\\x80\\xd0\\xb0\\xd0\\xb2\\xd0\\xbd\\xd0\\xb5\\xd0\\xbd\\xd0\\xb8\\xd1\\x8f']\n",
      "<type 'str'> <type 'unicode'>\n",
      "21 ['ecuaciones diferenciales']\n",
      "<type 'str'> <type 'unicode'>\n",
      "jihad jihad\n",
      "15 [u'jihad']\n",
      "<type 'unicode'> <type 'unicode'>\n",
      "23 ['\\xe5\\x9c\\xa3\\xe6\\x88\\x98']\n",
      "<type 'str'> <type 'unicode'>\n",
      "19 ['djihad']\n",
      "<type 'str'> <type 'unicode'>\n",
      "25 ['\\xd0\\x94\\xd0\\xb6\\xd0\\xb8\\xd1\\x85\\xd0\\xb0\\xd0\\xb4']\n",
      "<type 'str'> <type 'unicode'>\n",
      "21 ['jihad']\n",
      "<type 'str'> <type 'unicode'>\n"
     ]
    }
   ],
   "source": [
    "with open('iframes.html','w') as htmlFile:\n",
    "    htmlFile.write(header)\n",
    "    \n",
    "    for term in d['EN'].keys()[0:2]:\n",
    "        print term,re.escape(term)\n",
    "        writeLang('EN')\n",
    "        srcString=getIframeSource([term])#re.sub(' ','+',term))\n",
    "        htmlFile.write(srcString+'\\n')\n",
    "#        print termsDict[term][1:-1]\n",
    "        for term,lang in zip(termsDict[term][1:-1],['CN','FR','RU','ES']):\n",
    "#            print term,lang,re.escape(term)\n",
    "            srcString=getIframeSource([term],lang)\n",
    "            writeLang(lang)\n",
    "            htmlFile.write(srcString.encode('utf-8')+'\\n')"
   ]
  },
  {
   "cell_type": "code",
   "execution_count": 119,
   "metadata": {
    "collapsed": false
   },
   "outputs": [
    {
     "data": {
      "text/html": [
       "\n",
       "        <iframe\n",
       "            width=\"900\"\n",
       "            height=\"500\"\n",
       "            src=\"https://books.google.com/ngrams/interactive_chart?content=peace&year_start=1800&year_end=2000&corpus=18&smoothing=0&share=&direct_url=t1%3B%2Cpeace%3B%2Cc0\"\n",
       "            frameborder=\"0\"\n",
       "            allowfullscreen\n",
       "        ></iframe>\n",
       "        "
      ],
      "text/plain": [
       "<IPython.lib.display.IFrame at 0x10dabccd0>"
      ]
     },
     "execution_count": 119,
     "metadata": {},
     "output_type": "execute_result"
    }
   ],
   "source": [
    "term='peace'\n",
    "srcString=\"https://books.google.com/ngrams/interactive_chart?content=peace&year_start=1800&year_end=2000&corpus=18&smoothing=0&share=&direct_url=t1%3B%2C\"+term+\"%3B%2Cc0\"\n",
    "IFrame(srcString,width=900,height=500)"
   ]
  },
  {
   "cell_type": "code",
   "execution_count": null,
   "metadata": {
    "collapsed": true
   },
   "outputs": [],
   "source": []
  }
 ],
 "metadata": {
  "kernelspec": {
   "display_name": "Python 2",
   "language": "python",
   "name": "python2"
  },
  "language_info": {
   "codemirror_mode": {
    "name": "ipython",
    "version": 2
   },
   "file_extension": ".py",
   "mimetype": "text/x-python",
   "name": "python",
   "nbconvert_exporter": "python",
   "pygments_lexer": "ipython2",
   "version": "2.7.5"
  }
 },
 "nbformat": 4,
 "nbformat_minor": 0
}
