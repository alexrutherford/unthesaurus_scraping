{
 "cells": [
  {
   "cell_type": "code",
   "execution_count": 191,
   "metadata": {
    "collapsed": false
   },
   "outputs": [],
   "source": [
    "import json\n",
    "import csv,re,os,sys,random\n",
    "from IPython.display import IFrame"
   ]
  },
  {
   "cell_type": "code",
   "execution_count": 225,
   "metadata": {
    "collapsed": true
   },
   "outputs": [],
   "source": [
    "# Parameters for ngram time series\n",
    "start=u'1920'\n",
    "end=u'2010'\n"
   ]
  },
  {
   "cell_type": "code",
   "execution_count": 3,
   "metadata": {
    "collapsed": true
   },
   "outputs": [],
   "source": [
    "with open('ontology.json','r') as inFile:\n",
    "    d=json.loads(inFile.read())"
   ]
  },
  {
   "cell_type": "code",
   "execution_count": 231,
   "metadata": {
    "collapsed": false
   },
   "outputs": [],
   "source": [
    "header=\"\"\"<head>\\\n",
    "<meta charset=\"UTF-8\">\\\n",
    "</head>\\\n",
    "<style type=\"text/css\">\\n.iframe {\\\n",
    "  margin-top: 20px;\\\n",
    "  margin-bottom: 30px;\n",
    "  padding-left: -90px;\\n\\\n",
    "  .h1 {\\\n",
    "  font-size:48px;\\\n",
    "  align:center;\\\n",
    "}\\\n",
    "}</style>\\n\"\"\""
   ]
  },
  {
   "cell_type": "code",
   "execution_count": 74,
   "metadata": {
    "collapsed": true
   },
   "outputs": [],
   "source": [
    "termsFile=csv.reader(open('out.csv','r'),delimiter='\\t')\n",
    "termsDict={}\n",
    "\n",
    "for line in termsFile:\n",
    "    termsDict[line[2]]=line[0:2]\n",
    "    termsDict[line[2]].extend(line[3:]+[line[2]])\n",
    "    # Dictionary of each term in thesaurus, Key is English term, value is list of translations [AR,CN,FR,RU,FR,EN]\n",
    "    # e.g. termsDict['electronic publications']=['لمنشورات الإلكترونية','电子出版物','publications electroniques'\n",
    "    # 'Электронные издания','publicaciones electronicas','electronic publications']\n"
   ]
  },
  {
   "cell_type": "code",
   "execution_count": 4,
   "metadata": {
    "collapsed": false
   },
   "outputs": [
    {
     "data": {
      "text/plain": [
       "[u'RU', u'FR', u'EN', u'CN', u'AR', u'ES']"
      ]
     },
     "execution_count": 4,
     "metadata": {},
     "output_type": "execute_result"
    }
   ],
   "source": [
    "d.keys()"
   ]
  },
  {
   "cell_type": "code",
   "execution_count": 6,
   "metadata": {
    "collapsed": false
   },
   "outputs": [
    {
     "name": "stdout",
     "output_type": "stream",
     "text": [
      "RU 7107\n",
      "FR 7116\n",
      "EN 7118\n",
      "CN 7055\n",
      "AR 7082\n",
      "ES 7117\n"
     ]
    }
   ],
   "source": [
    "for lang in d.keys():\n",
    "    print lang,len(d[lang].keys())"
   ]
  },
  {
   "cell_type": "code",
   "execution_count": 19,
   "metadata": {
    "collapsed": true
   },
   "outputs": [],
   "source": [
    "srcString='\"https://books.google.com/ngrams/interactive_chart?content=peace%2Cwar&year_start=1800&year_end=2000&corpus=18&smoothing=0&share=&direct_url=t1%3B%2Cpeace%3B%2Cc0%3B.t1%3B%2Cwar%3B%2Cc0\"'"
   ]
  },
  {
   "cell_type": "code",
   "execution_count": 349,
   "metadata": {
    "collapsed": false
   },
   "outputs": [],
   "source": [
    "def getIframeSource(terms,nLang=u'EN'):\n",
    "    corpusHash={u'CN':23,u'FR':19,u'EN':15,u'RU':25,u'ES':21}\n",
    "    corpusId=corpusHash[nLang]\n",
    "    corpusId=unicode(corpusId)\n",
    "    terms=[term.decode('utf-8').lower() for term in terms]\n",
    "    \n",
    "    height=u'150'\n",
    "    width=u'300'\n",
    "    \n",
    "    smoothing='10'\n",
    "    \n",
    "    if len(terms)==1:\n",
    "        print 'Single',lang\n",
    "        returnString=u'<iframe name=\"'+lang+'\" src=\"https://books.google.com/ngrams/interactive_chart?content='\n",
    "        returnString+=terms[0]\n",
    "        returnString+=u'&year_start='+start+'&year_end='+end\n",
    "        returnString+=u'&case_insensitive=on&corpus='\n",
    "        returnString+=corpusId\n",
    "        returnString+=u'&smoothing='+smoothing+u'&share=&direct_url=t1%3B%2C'\n",
    "        returnString+=terms[0]\n",
    "        returnString+=u'%3B%2Cc0\" width='+width+' height='+height+' marginwidth=0 marginheight=0 hspace=-100 vspace=0 frameborder=0 scrolling=no></iframe>'\n",
    "        return returnString\n",
    "    else:\n",
    "        print 'Multiple',lang\n",
    "        print terms\n",
    "        if len(terms)>4:\n",
    "            terms=terms[0:4]\n",
    "            print 'Limiting:',terms\n",
    "        returnString=u'<iframe name=\"'+lang+'\" src=\"https://books.google.com/ngrams/interactive_chart?content='\n",
    "        returnString+=u','.join(terms)\n",
    "        returnString+=u'&year_start='+start+'&year_end='+end\n",
    "        returnString+=u'&case_insensitive=on&corpus='\n",
    "        returnString+=corpusId\n",
    "        returnString+=u'&smoothing='+smoothing+u'&share=&direct_url='#=t1%3B%2C'\n",
    "        # t1%3B%2C___%3B%2Cc0%3B . t1%3B%2C___%3B%2Cc0\n",
    "        # t1%3B%2C___%3B%2Cc0%3B . t1%3B%2C___%3B%2Cc0%3B%2Cc0\n",
    "        returnString+=u'.'.join(['t1%3B%2C'+t+'%3B%2Cc0%3B' for t in terms[0:-1]])\n",
    "        returnString+=u'.t1%3B%2C'+terms[-1]#+u'%3B%2Cc0'\n",
    "        returnString+=u'%3B%2Cc0\" width='+width+' height='+height+' marginwidth=0 marginheight=0 hspace=-100 vspace=0 frameborder=0 scrolling=no></iframe>'\n",
    "        return returnString\n",
    "\n",
    "#        return u'<iframe name=\"ngram_chart\" src=\"https://books.google.com/ngrams/interactive_chart?content='\\\n",
    "#        +u'%2C'.join(terms)+u'&year_start=1800&year_end=2000&case_insensitive=on&corpus='+corpusId+'&smoothing=0&share=&direct_url=t1%3B%2C'+'%2C'.join(terms)+u'%3B%2Cc0\" width=900 height=500 marginwidth=0 marginheight=0 hspace=-100 vspace=0 frameborder=0 scrolling=no></iframe>'"
   ]
  },
  {
   "cell_type": "code",
   "execution_count": 350,
   "metadata": {
    "collapsed": true
   },
   "outputs": [],
   "source": [
    "def writeLang(l):return None#htmlFile.write('<h1 align=\"center\">%s</h1>' % l)"
   ]
  },
  {
   "cell_type": "code",
   "execution_count": 351,
   "metadata": {
    "collapsed": true
   },
   "outputs": [],
   "source": [
    "def getTermString(term):\n",
    "    returnString=term+''\n",
    "    return '%s (%s - %s)' % (term,start,end)"
   ]
  },
  {
   "cell_type": "code",
   "execution_count": 362,
   "metadata": {
    "collapsed": false
   },
   "outputs": [
    {
     "name": "stdout",
     "output_type": "stream",
     "text": [
      "agricultural policy\n",
      "Multiple ES\n",
      "[u'agricultural policy', u'agricultural development', u'agricultural legislation', u'agricultural planning', u'agricultural price supports', u'farm production quotas', u'food policy', u'sustainable agriculture']\n",
      "Limiting: [u'agricultural policy', u'agricultural development']\n",
      "Single CN\n",
      "Multiple FR\n",
      "[u'politique agricole', u'agriculture ecologiquement viable', u'developpement agricole', u'legislation agricole', u'planification agricole', u'politique alimentaire', u'quotas de production agricole', u'soutien des prix agricoles']\n",
      "Limiting: [u'politique agricole', u'agriculture ecologiquement viable']\n",
      "Single RU\n",
      "Multiple ES\n",
      "[u'politica agraria', u'agricultura sostenible', u'apoyo a los precios agricolas', u'cuotas de produccion agricola', u'desarrollo agricola', u'legislacion agricola', u'planificacion agricola', u'politica alimentaria']\n",
      "Limiting: [u'politica agraria', u'agricultura sostenible']\n",
      "middle america\n",
      "Multiple ES\n",
      "[u'middle america', u'caribbean region', u'central america', u'mexico']\n",
      "Limiting: [u'middle america', u'caribbean region']\n",
      "Single CN\n",
      "Multiple FR\n",
      "[u'amerique moyenne', u'amerique centrale', u'mexique', u'region des antilles']\n",
      "Limiting: [u'amerique moyenne', u'amerique centrale']\n",
      "Single RU\n",
      "Multiple ES\n",
      "[u'mesoamerica', u'america central', u'caribe', u'mexico']\n",
      "Limiting: [u'mesoamerica', u'america central']\n",
      "steering gear\n",
      "Multiple ES\n",
      "[u'steering gear', u'motor vehicle equipment']\n",
      "Single CN\n",
      "Multiple FR\n",
      "[u'appareil de direction', u'accessoires pour vehicules a moteur']\n",
      "Single RU\n",
      "Multiple ES\n",
      "[u'mecanismo de direccion', u'equipo para vehiculos automotores']\n",
      "staff assessment\n",
      "Multiple ES\n",
      "[u'staff assessment', u'income tax', u'salaries and allowances', u'tax reimbursement']\n",
      "Limiting: [u'staff assessment', u'income tax']\n",
      "Single CN\n",
      "Multiple FR\n",
      "[u'contributions du personnel', u'impot sur le revenu', u'remboursement des impots', u'traitements et indemnites']\n",
      "Limiting: [u'contributions du personnel', u'impot sur le revenu']\n",
      "Single RU\n",
      "Multiple ES\n",
      "[u'contribuciones del personal', u'impuesto a la renta', u'reembolso de impuestos', u'sueldos y subsidios']\n",
      "Limiting: [u'contribuciones del personal', u'impuesto a la renta']\n",
      "pragmatism\n",
      "Single ES\n",
      "Single CN\n",
      "Single FR\n",
      "Single RU\n",
      "Single ES\n",
      "prenatal care\n",
      "Multiple ES\n",
      "[u'prenatal care', u'birth weight', u'maternal and child health', u'maternal health services', u'pregnancy', u'premature infants']\n",
      "Limiting: [u'prenatal care', u'birth weight']\n",
      "Single CN\n",
      "Multiple FR\n",
      "[u'soins prenataux', u'enfants prematures', u'grossesse', u'poids a la naissance', u\"sante de la mere et de l'enfant\", u'services de sante maternelle']\n",
      "Limiting: [u'soins prenataux', u'enfants prematures']\n",
      "Single RU\n"
     ]
    },
    {
     "ename": "UnicodeEncodeError",
     "evalue": "'ascii' codec can't encode character u'\\xd1' in position 2: ordinal not in range(128)",
     "output_type": "error",
     "traceback": [
      "\u001b[0;31m---------------------------------------------------------------------------\u001b[0m",
      "\u001b[0;31mUnicodeEncodeError\u001b[0m                        Traceback (most recent call last)",
      "\u001b[0;32m<ipython-input-362-66665ec385de>\u001b[0m in \u001b[0;36m<module>\u001b[0;34m()\u001b[0m\n\u001b[1;32m     32\u001b[0m             \u001b[0;32mexcept\u001b[0m\u001b[0;34m:\u001b[0m\u001b[0mrelatedTerms\u001b[0m\u001b[0;34m=\u001b[0m\u001b[0;34m[\u001b[0m\u001b[0;34m]\u001b[0m\u001b[0;34m\u001b[0m\u001b[0m\n\u001b[1;32m     33\u001b[0m \u001b[0;34m\u001b[0m\u001b[0m\n\u001b[0;32m---> 34\u001b[0;31m             \u001b[0msrcString\u001b[0m\u001b[0;34m=\u001b[0m\u001b[0mgetIframeSource\u001b[0m\u001b[0;34m(\u001b[0m\u001b[0;34m[\u001b[0m\u001b[0mterm\u001b[0m\u001b[0;34m]\u001b[0m\u001b[0;34m+\u001b[0m\u001b[0mrelatedTerms\u001b[0m\u001b[0;34m,\u001b[0m\u001b[0mlang\u001b[0m\u001b[0;34m)\u001b[0m\u001b[0;34m\u001b[0m\u001b[0m\n\u001b[0m\u001b[1;32m     35\u001b[0m             \u001b[0mhtmlFile\u001b[0m\u001b[0;34m.\u001b[0m\u001b[0mwrite\u001b[0m\u001b[0;34m(\u001b[0m\u001b[0;34m\"<td>\"\u001b[0m\u001b[0;34m)\u001b[0m\u001b[0;34m\u001b[0m\u001b[0m\n\u001b[1;32m     36\u001b[0m             \u001b[0;31m# Open cell\u001b[0m\u001b[0;34m\u001b[0m\u001b[0;34m\u001b[0m\u001b[0m\n",
      "\u001b[0;32m<ipython-input-349-05d76207ec9c>\u001b[0m in \u001b[0;36mgetIframeSource\u001b[0;34m(terms, nLang)\u001b[0m\n\u001b[1;32m      3\u001b[0m     \u001b[0mcorpusId\u001b[0m\u001b[0;34m=\u001b[0m\u001b[0mcorpusHash\u001b[0m\u001b[0;34m[\u001b[0m\u001b[0mnLang\u001b[0m\u001b[0;34m]\u001b[0m\u001b[0;34m\u001b[0m\u001b[0m\n\u001b[1;32m      4\u001b[0m     \u001b[0mcorpusId\u001b[0m\u001b[0;34m=\u001b[0m\u001b[0municode\u001b[0m\u001b[0;34m(\u001b[0m\u001b[0mcorpusId\u001b[0m\u001b[0;34m)\u001b[0m\u001b[0;34m\u001b[0m\u001b[0m\n\u001b[0;32m----> 5\u001b[0;31m     \u001b[0mterms\u001b[0m\u001b[0;34m=\u001b[0m\u001b[0;34m[\u001b[0m\u001b[0mterm\u001b[0m\u001b[0;34m.\u001b[0m\u001b[0mdecode\u001b[0m\u001b[0;34m(\u001b[0m\u001b[0;34m'utf-8'\u001b[0m\u001b[0;34m)\u001b[0m\u001b[0;34m.\u001b[0m\u001b[0mlower\u001b[0m\u001b[0;34m(\u001b[0m\u001b[0;34m)\u001b[0m \u001b[0;32mfor\u001b[0m \u001b[0mterm\u001b[0m \u001b[0;32min\u001b[0m \u001b[0mterms\u001b[0m\u001b[0;34m]\u001b[0m\u001b[0;34m\u001b[0m\u001b[0m\n\u001b[0m\u001b[1;32m      6\u001b[0m \u001b[0;34m\u001b[0m\u001b[0m\n\u001b[1;32m      7\u001b[0m     \u001b[0mheight\u001b[0m\u001b[0;34m=\u001b[0m\u001b[0;34mu'150'\u001b[0m\u001b[0;34m\u001b[0m\u001b[0m\n",
      "\u001b[0;32m/usr/local/Cellar/python/2.7.5/Frameworks/Python.framework/Versions/2.7/lib/python2.7/encodings/utf_8.pyc\u001b[0m in \u001b[0;36mdecode\u001b[0;34m(input, errors)\u001b[0m\n\u001b[1;32m     14\u001b[0m \u001b[0;34m\u001b[0m\u001b[0m\n\u001b[1;32m     15\u001b[0m \u001b[0;32mdef\u001b[0m \u001b[0mdecode\u001b[0m\u001b[0;34m(\u001b[0m\u001b[0minput\u001b[0m\u001b[0;34m,\u001b[0m \u001b[0merrors\u001b[0m\u001b[0;34m=\u001b[0m\u001b[0;34m'strict'\u001b[0m\u001b[0;34m)\u001b[0m\u001b[0;34m:\u001b[0m\u001b[0;34m\u001b[0m\u001b[0m\n\u001b[0;32m---> 16\u001b[0;31m     \u001b[0;32mreturn\u001b[0m \u001b[0mcodecs\u001b[0m\u001b[0;34m.\u001b[0m\u001b[0mutf_8_decode\u001b[0m\u001b[0;34m(\u001b[0m\u001b[0minput\u001b[0m\u001b[0;34m,\u001b[0m \u001b[0merrors\u001b[0m\u001b[0;34m,\u001b[0m \u001b[0mTrue\u001b[0m\u001b[0;34m)\u001b[0m\u001b[0;34m\u001b[0m\u001b[0m\n\u001b[0m\u001b[1;32m     17\u001b[0m \u001b[0;34m\u001b[0m\u001b[0m\n\u001b[1;32m     18\u001b[0m \u001b[0;32mclass\u001b[0m \u001b[0mIncrementalEncoder\u001b[0m\u001b[0;34m(\u001b[0m\u001b[0mcodecs\u001b[0m\u001b[0;34m.\u001b[0m\u001b[0mIncrementalEncoder\u001b[0m\u001b[0;34m)\u001b[0m\u001b[0;34m:\u001b[0m\u001b[0;34m\u001b[0m\u001b[0m\n",
      "\u001b[0;31mUnicodeEncodeError\u001b[0m: 'ascii' codec can't encode character u'\\xd1' in position 2: ordinal not in range(128)"
     ]
    }
   ],
   "source": [
    "with open('iframes.html','w') as htmlFile:\n",
    "    htmlFile.write(header)\n",
    "    \n",
    "    for term in random.sample(d['EN'].keys(),10):\n",
    "        print term\n",
    "        writeLang('EN')\n",
    "        htmlFile.write(\"\"\"<table border=\"0\" cellpadding=\"0\" cellspacing=\"0\" width=\"100%\" height=\"200px\"><tr>\\n\"\"\")\n",
    "        # Open table\n",
    "        termString=getTermString(term)\n",
    "        htmlFile.write('<tr><th colspan=\"5\"><h1 align=\"center\">%s</h1></th><tr>' % termString)\n",
    "        htmlFile.write(\"<tr><td>English (%s)</td><td>Chinese (%s)</td><td>French (%s)</td>\\\n",
    "        <td>Russian (%s)</td><td>Spanish (%s)</td></tr>\" % tuple([term.encode('utf-8')]+(termsDict[term][1:-1])))\n",
    "        # Write row of languages\n",
    "        htmlFile.write('\\n'+\"<tr>\")\n",
    "        # Open row\n",
    "\n",
    "        try:relatedTerms=d['EN'][term]['Related terms']\n",
    "        except:relatedTerms=[]\n",
    "            \n",
    "        srcString=getIframeSource([term]+relatedTerms)#re.sub(' ','+',term))\n",
    "        htmlFile.write(\"\"\"<div style=\"padding:-50px;\"><td width=300px>\"\"\")\n",
    "        # Open cell\n",
    "        \n",
    "        htmlFile.write(srcString+'\\n')\n",
    "        htmlFile.write(\"</td></div>\"+'\\n')\n",
    "        # Close cell\n",
    "\n",
    "#        print termsDict[term][1:-1]\n",
    "        for term,lang in zip(termsDict[term][1:-1],['CN','FR','RU','ES']):\n",
    "#            print term,lang,re.escape(term)\n",
    "\n",
    "            try:relatedTerms=d[lang][term]['Related terms']\n",
    "            except:relatedTerms=[]\n",
    "\n",
    "            srcString=getIframeSource([term]+relatedTerms,lang)\n",
    "            htmlFile.write(\"<td>\")\n",
    "            # Open cell\n",
    "            writeLang(lang)\n",
    "            htmlFile.write(srcString.encode('utf-8')+'\\n')\n",
    "            htmlFile.write(\"</td>\")\n",
    "            # Close cell\n",
    "\n",
    "        htmlFile.write(\"<tr>\")\n",
    "        # Close row"
   ]
  },
  {
   "cell_type": "code",
   "execution_count": 348,
   "metadata": {
    "collapsed": false
   },
   "outputs": [
    {
     "data": {
      "text/plain": [
       "[(u'differential equations',\n",
       "  {u'Narrower terms': [u'STOCHASTIC DIFFERENTIAL EQUATIONS'],\n",
       "   u'Related terms': [u'CALCULUS']}),\n",
       " (u'jihad', {u'Related terms': [u'ISLAM', u'WAR']})]"
      ]
     },
     "execution_count": 348,
     "metadata": {},
     "output_type": "execute_result"
    }
   ],
   "source": [
    "d['EN'].items()[0:2]"
   ]
  },
  {
   "cell_type": "code",
   "execution_count": 299,
   "metadata": {
    "collapsed": false
   },
   "outputs": [
    {
     "data": {
      "text/plain": [
       "'<iframe name=\"ngram_chart\" src=\"https://books.google.com/ngrams/interactive_chart?content=war%2Cpeace&year_start=1800&year_end=2000&corpus=17&smoothing=0&share=&direct_url=t1%3B%2Cwar%3B%2Cc0%3B.t1%3B%2Cpeace%3B%2Cc0\" width=900 height=500 marginwidth=0 marginheight=0 hspace=0 vspace=0 frameborder=0 scrolling=no></iframe>'"
      ]
     },
     "execution_count": 299,
     "metadata": {},
     "output_type": "execute_result"
    }
   ],
   "source": [
    "\"\"\"<iframe name=\"ngram_chart\" src=\"https://books.google.com/ngrams/interactive_chart?content=war%2Cpeace&year_start=1800&year_end=2000&corpus=17&smoothing=0&share=&direct_url=t1%3B%2Cwar%3B%2Cc0%3B.t1%3B%2Cpeace%3B%2Cc0\" width=900 height=500 marginwidth=0 marginheight=0 hspace=0 vspace=0 frameborder=0 scrolling=no></iframe>\"\"\""
   ]
  },
  {
   "cell_type": "code",
   "execution_count": 264,
   "metadata": {
    "collapsed": false
   },
   "outputs": [
    {
     "data": {
      "text/html": [
       "\n",
       "        <iframe\n",
       "            width=\"900\"\n",
       "            height=\"500\"\n",
       "            src=\"https://books.google.com/ngrams/interactive_chart?content=peace,war&year_start=1800&year_end=2000&corpus=18&smoothing=0&share=&direct_url=t1%3B%2Cpeace%3B%2Cc0\"\n",
       "            frameborder=\"0\"\n",
       "            allowfullscreen\n",
       "        ></iframe>\n",
       "        "
      ],
      "text/plain": [
       "<IPython.lib.display.IFrame at 0x10d776050>"
      ]
     },
     "execution_count": 264,
     "metadata": {},
     "output_type": "execute_result"
    }
   ],
   "source": [
    "term='peace'\n",
    "srcString=\"https://books.google.com/ngrams/interactive_chart?content=peace,war&year_start=1800&year_end=2000&corpus=18&smoothing=0&share=&direct_url=t1%3B%2C\"+term+\"%3B%2Cc0\"\n",
    "IFrame(srcString,width=900,height=500)"
   ]
  },
  {
   "cell_type": "code",
   "execution_count": null,
   "metadata": {
    "collapsed": true
   },
   "outputs": [],
   "source": []
  }
 ],
 "metadata": {
  "kernelspec": {
   "display_name": "Python 2",
   "language": "python",
   "name": "python2"
  },
  "language_info": {
   "codemirror_mode": {
    "name": "ipython",
    "version": 2
   },
   "file_extension": ".py",
   "mimetype": "text/x-python",
   "name": "python",
   "nbconvert_exporter": "python",
   "pygments_lexer": "ipython2",
   "version": "2.7.5"
  }
 },
 "nbformat": 4,
 "nbformat_minor": 0
}
