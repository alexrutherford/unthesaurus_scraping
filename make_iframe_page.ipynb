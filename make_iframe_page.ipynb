{
 "cells": [
  {
   "cell_type": "code",
   "execution_count": 1,
   "metadata": {
    "collapsed": false
   },
   "outputs": [],
   "source": [
    "import json\n",
    "import csv,re,os,sys,random\n",
    "from IPython.display import IFrame"
   ]
  },
  {
   "cell_type": "code",
   "execution_count": 2,
   "metadata": {
    "collapsed": true
   },
   "outputs": [],
   "source": [
    "# Parameters for ngram time series\n",
    "start=u'1920'\n",
    "end=u'2010'"
   ]
  },
  {
   "cell_type": "code",
   "execution_count": 3,
   "metadata": {
    "collapsed": true
   },
   "outputs": [],
   "source": [
    "with open('ontology.json','r') as inFile:\n",
    "    d=json.loads(inFile.read())"
   ]
  },
  {
   "cell_type": "code",
   "execution_count": 4,
   "metadata": {
    "collapsed": false
   },
   "outputs": [],
   "source": [
    "header=\"\"\"<head>\\\n",
    "<meta charset=\"UTF-8\">\\\n",
    "</head>\\\n",
    "<style type=\"text/css\">\\n.iframe {\\\n",
    "  margin-top: 20px;\\\n",
    "  margin-bottom: 30px;\n",
    "  padding-left: -90px;\\n\\\n",
    "  .h1 {\\\n",
    "  font-size:48px;\\\n",
    "  align:center;\\\n",
    "}\\\n",
    "}</style>\\n\"\"\""
   ]
  },
  {
   "cell_type": "code",
   "execution_count": 5,
   "metadata": {
    "collapsed": true
   },
   "outputs": [],
   "source": [
    "termsFile=csv.reader(open('out.csv','r'),delimiter='\\t')\n",
    "termsDict={}\n",
    "\n",
    "for line in termsFile:\n",
    "    termsDict[line[2]]=line[0:2]\n",
    "    termsDict[line[2]].extend(line[3:]+[line[2]])\n",
    "    # Dictionary of each term in thesaurus, Key is English term, value is list of translations [AR,CN,FR,RU,FR,EN]\n",
    "    # e.g. termsDict['electronic publications']=['لمنشورات الإلكترونية','电子出版物','publications electroniques'\n",
    "    # 'Электронные издания','publicaciones electronicas','electronic publications']\n"
   ]
  },
  {
   "cell_type": "code",
   "execution_count": 6,
   "metadata": {
    "collapsed": false
   },
   "outputs": [
    {
     "data": {
      "text/plain": [
       "[u'RU', u'FR', u'EN', u'CN', u'AR', u'ES']"
      ]
     },
     "execution_count": 6,
     "metadata": {},
     "output_type": "execute_result"
    }
   ],
   "source": [
    "d.keys()"
   ]
  },
  {
   "cell_type": "code",
   "execution_count": 7,
   "metadata": {
    "collapsed": false
   },
   "outputs": [
    {
     "name": "stdout",
     "output_type": "stream",
     "text": [
      "RU 7107\n",
      "FR 7116\n",
      "EN 7118\n",
      "CN 7055\n",
      "AR 7082\n",
      "ES 7117\n"
     ]
    }
   ],
   "source": [
    "for lang in d.keys():\n",
    "    print lang,len(d[lang].keys())"
   ]
  },
  {
   "cell_type": "code",
   "execution_count": 8,
   "metadata": {
    "collapsed": true
   },
   "outputs": [],
   "source": [
    "srcString='\"https://books.google.com/ngrams/interactive_chart?content=peace%2Cwar&year_start=1800&year_end=2000&corpus=18&smoothing=0&share=&direct_url=t1%3B%2Cpeace%3B%2Cc0%3B.t1%3B%2Cwar%3B%2Cc0\"'"
   ]
  },
  {
   "cell_type": "code",
   "execution_count": 101,
   "metadata": {
    "collapsed": false
   },
   "outputs": [],
   "source": [
    "def getIframeSource(terms,nLang=u'EN',plotRelated=True):\n",
    "    corpusHash={u'CN':23,u'FR':19,u'EN':15,u'RU':25,u'ES':21}\n",
    "    # These are the IDs for each language in n-gram widget\n",
    "    \n",
    "    corpusId=corpusHash[nLang]\n",
    "    corpusId=unicode(corpusId)\n",
    "    terms=[term.decode('utf-8').lower() for term in terms]\n",
    "    \n",
    "    height=u'150'\n",
    "    width=u'300'\n",
    "    \n",
    "    smoothing='10'\n",
    "    \n",
    "    if len(terms)==1 or (not plotRelated):\n",
    "        print 'Single',lang\n",
    "        returnString=u'<iframe name=\"%s\" src=\"https://books.google.com/ngrams/interactive_chart?content=' % lang\n",
    "        returnString+=terms[0]\n",
    "        returnString+=u'&year_start=%s&year_end=%s' % (start,end)\n",
    "        returnString+=u'&case_insensitive=on&corpus='\n",
    "        returnString+=corpusId\n",
    "        returnString+=u'&smoothing=%s&share=&direct_url=t1%%3B%%2C' % smoothing\n",
    "        returnString+=terms[0]\n",
    "        returnString+=u'%%3B%%2Cc0\" width=%s height=%s marginwidth=0 marginheight=0 hspace=-100 vspace=0\\\n",
    "        frameborder=0 scrolling=no></iframe>' % (width,height)\n",
    "        return returnString\n",
    "    else:\n",
    "        print 'Multiple',lang\n",
    "        print terms\n",
    "        if len(terms)>4:\n",
    "            terms=terms[0:4]\n",
    "            print 'Limiting:',terms\n",
    "        returnString=u'<iframe name=\"%s\" src=\"https://books.google.com/ngrams/interactive_chart?content=' % lang\n",
    "        returnString+=u','.join(terms)\n",
    "        returnString+=u'&year_start=%s&year_end=%s' % (start,end)\n",
    "        returnString+=u'&case_insensitive=on&corpus='\n",
    "        returnString+=corpusId\n",
    "        returnString+=u'&smoothing=%s&share=&direct_url=' % smoothing\n",
    "        returnString+=u'.'.join(['t1%3B%2C'+t+'%3B%2Cc0%3B' for t in terms[0:-1]])\n",
    "        returnString+=u'.t1%3B%2C'+terms[-1]\n",
    "        returnString+=u'%%3B%%2Cc0\" width=%s height=%s \\\n",
    "        marginwidth=0 marginheight=0 hspace=-100 vspace=0 frameborder=0 scrolling=no></iframe>' % (width,height)\n",
    "        return returnString"
   ]
  },
  {
   "cell_type": "code",
   "execution_count": 102,
   "metadata": {
    "collapsed": true
   },
   "outputs": [],
   "source": [
    "def writeLang(l):return None#htmlFile.write('<h1 align=\"center\">%s</h1>' % l)"
   ]
  },
  {
   "cell_type": "code",
   "execution_count": 103,
   "metadata": {
    "collapsed": true
   },
   "outputs": [],
   "source": [
    "def getTermString(term):\n",
    "    returnString=term+''\n",
    "    return '%s (%s - %s)' % (term,start,end)"
   ]
  },
  {
   "cell_type": "code",
   "execution_count": 108,
   "metadata": {
    "collapsed": false
   },
   "outputs": [
    {
     "name": "stdout",
     "output_type": "stream",
     "text": [
      "glossaries\n",
      "Multiple ES\n",
      "[u'glossaries', u'definition', u'dictionaries', u'new words', u'terminology', u'thesauri']\n",
      "Limiting: [u'glossaries', u'definition', u'dictionaries', u'new words']\n",
      "Single CN\n",
      "Multiple FR\n",
      "[u'glossaires', u'dictionnaires', u'neologismes', u'terminologie', u'thesauri']\n",
      "Limiting: [u'glossaires', u'dictionnaires', u'neologismes', u'terminologie']\n",
      "Single RU\n",
      "Multiple ES\n",
      "[u'glosarios', u'diccionarios', u'neologismos', u'terminologia', u'tesauros']\n",
      "Limiting: [u'glosarios', u'diccionarios', u'neologismos', u'terminologia']\n",
      "kenyans\n",
      "Multiple ES\n",
      "[u'kenyans', u'kenya']\n",
      "Single CN\n",
      "Multiple FR\n",
      "[u'kenyens', u'kenya']\n",
      "Single RU\n",
      "Multiple ES\n",
      "[u'kenianos', u'kenya']\n",
      "ethiopia\n",
      "Multiple ES\n",
      "[u'ethiopia', u'ethiopian refugees', u'ethiopians', u'northeast africa']\n",
      "Single CN\n",
      "Multiple FR\n",
      "[u'ethiopie', u'afrique du nord-est', u'ethiopiens', u'refugies ethiopiens']\n",
      "Single RU\n",
      "Multiple ES\n",
      "[u'etiopia', u'africa nororiental', u'etiopes', u'refugiados etiopes']\n"
     ]
    }
   ],
   "source": [
    "with open('iframes.html','w') as htmlFile:\n",
    "    htmlFile.write(header)\n",
    "    \n",
    "    nCharts=3\n",
    "    plotRelatedTerms=False\n",
    "    \n",
    "    for term in random.sample(d['EN'].keys(),nCharts):\n",
    "        print term\n",
    "        writeLang('EN')\n",
    "        htmlFile.write(\"\"\"<table border=\"0\" cellpadding=\"10\" cellspacing=\"0\" width=\"100%\" height=\"200px\"><tr>\\n\"\"\")\n",
    "        # Open table\n",
    "        termString=getTermString(term)\n",
    "        htmlFile.write('<tr><th colspan=\"5\"><h1 align=\"center\">%s</h1></th><tr>' % termString)\n",
    "        htmlFile.write(\"<tr><td>English (%s)</td><td>Chinese (%s)</td><td>French (%s)</td>\\\n",
    "        <td>Russian (%s)</td><td>Spanish (%s)</td></tr>\" % tuple([term.encode('utf-8')]+(termsDict[term][1:-1])))\n",
    "        # Write row of languages\n",
    "        htmlFile.write('\\n'+\"<tr>\")\n",
    "        # Open row\n",
    "\n",
    "        try:relatedTerms=d['EN'][term]['Related terms']\n",
    "        except:relatedTerms=[]\n",
    "            \n",
    "        srcString=getIframeSource([term]+relatedTerms)\n",
    "        htmlFile.write(\"\"\"<div style=\"padding:-20px;\"><td width=300px>\"\"\")\n",
    "        # Open cell\n",
    "        \n",
    "        htmlFile.write(srcString+'\\n')\n",
    "        htmlFile.write(\"</td></div>\"+'\\n')\n",
    "        # Close cell\n",
    "\n",
    "        if True:\n",
    "        \n",
    "            for term,lang in zip(termsDict[term][1:-1],['CN','FR','RU','ES']):\n",
    "\n",
    "                try:relatedTerms=d[lang][term]['Related terms']\n",
    "                except:relatedTerms=[]\n",
    "\n",
    "                srcString=getIframeSource([term]+relatedTerms,lang)\n",
    "                htmlFile.write(\"<td>\")\n",
    "                # Open cell\n",
    "                writeLang(lang)\n",
    "                htmlFile.write(srcString.encode('utf-8')+'\\n')\n",
    "                htmlFile.write(\"</td><p></p>\")\n",
    "                # Close cell\n",
    "\n",
    "        htmlFile.write(\"<tr>\")\n",
    "        # Close row"
   ]
  },
  {
   "cell_type": "code",
   "execution_count": 97,
   "metadata": {
    "collapsed": false
   },
   "outputs": [
    {
     "data": {
      "text/plain": [
       "[(u'differential equations', {u'Related terms': [u'CALCULUS']}),\n",
       " (u'jihad', {u'Related terms': [u'ISLAM', u'WAR']})]"
      ]
     },
     "execution_count": 97,
     "metadata": {},
     "output_type": "execute_result"
    }
   ],
   "source": [
    "d['EN'].items()[0:2]"
   ]
  },
  {
   "cell_type": "code",
   "execution_count": 86,
   "metadata": {
    "collapsed": false
   },
   "outputs": [
    {
     "data": {
      "text/plain": [
       "'<iframe name=\"ngram_chart\" src=\"https://books.google.com/ngrams/interactive_chart?content=war%2Cpeace&year_start=1800&year_end=2000&corpus=17&smoothing=0&share=&direct_url=t1%3B%2Cwar%3B%2Cc0%3B.t1%3B%2Cpeace%3B%2Cc0\" width=900 height=500 marginwidth=0 marginheight=0 hspace=0 vspace=0 frameborder=0 scrolling=no></iframe>'"
      ]
     },
     "execution_count": 86,
     "metadata": {},
     "output_type": "execute_result"
    }
   ],
   "source": [
    "\"\"\"<iframe name=\"ngram_chart\" src=\"https://books.google.com/ngrams/interactive_chart?content=war%2Cpeace&year_start=1800&year_end=2000&corpus=17&smoothing=0&share=&direct_url=t1%3B%2Cwar%3B%2Cc0%3B.t1%3B%2Cpeace%3B%2Cc0\" width=900 height=500 marginwidth=0 marginheight=0 hspace=0 vspace=0 frameborder=0 scrolling=no></iframe>\"\"\""
   ]
  },
  {
   "cell_type": "code",
   "execution_count": 78,
   "metadata": {
    "collapsed": false
   },
   "outputs": [
    {
     "data": {
      "text/html": [
       "\n",
       "        <iframe\n",
       "            width=\"900\"\n",
       "            height=\"500\"\n",
       "            src=\"https://books.google.com/ngrams/interactive_chart?content=peace,war&year_start=1800&year_end=2000&corpus=18&smoothing=0&share=&direct_url=t1%3B%2Cpeace%3B%2Cc0\"\n",
       "            frameborder=\"0\"\n",
       "            allowfullscreen\n",
       "        ></iframe>\n",
       "        "
      ],
      "text/plain": [
       "<IPython.lib.display.IFrame at 0x7f70f906e590>"
      ]
     },
     "execution_count": 78,
     "metadata": {},
     "output_type": "execute_result"
    }
   ],
   "source": [
    "term='peace'\n",
    "srcString=\"https://books.google.com/ngrams/interactive_chart?content=peace,war&year_start=1800&year_end=2000&corpus=18&smoothing=0&share=&direct_url=t1%3B%2C\"+term+\"%3B%2Cc0\"\n",
    "IFrame(srcString,width=900,height=500)"
   ]
  },
  {
   "cell_type": "code",
   "execution_count": null,
   "metadata": {
    "collapsed": true
   },
   "outputs": [],
   "source": []
  }
 ],
 "metadata": {
  "kernelspec": {
   "display_name": "Python 2",
   "language": "python",
   "name": "python2"
  },
  "language_info": {
   "codemirror_mode": {
    "name": "ipython",
    "version": 2
   },
   "file_extension": ".py",
   "mimetype": "text/x-python",
   "name": "python",
   "nbconvert_exporter": "python",
   "pygments_lexer": "ipython2",
   "version": "2.7.6"
  }
 },
 "nbformat": 4,
 "nbformat_minor": 0
}
