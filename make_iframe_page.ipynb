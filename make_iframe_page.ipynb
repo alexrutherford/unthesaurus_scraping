{
 "cells": [
  {
   "cell_type": "code",
   "execution_count": 1,
   "metadata": {
    "collapsed": false
   },
   "outputs": [],
   "source": [
    "import json\n",
    "import csv,re,os,sys,random\n",
    "from IPython.display import IFrame"
   ]
  },
  {
   "cell_type": "code",
   "execution_count": 2,
   "metadata": {
    "collapsed": true
   },
   "outputs": [],
   "source": [
    "# Parameters for ngram time series\n",
    "start=u'1920'\n",
    "end=u'2010'"
   ]
  },
  {
   "cell_type": "code",
   "execution_count": 3,
   "metadata": {
    "collapsed": true
   },
   "outputs": [],
   "source": [
    "with open('ontology.json','r') as inFile:\n",
    "    d=json.loads(inFile.read())"
   ]
  },
  {
   "cell_type": "code",
   "execution_count": 4,
   "metadata": {
    "collapsed": false
   },
   "outputs": [],
   "source": [
    "header=\"\"\"<head>\\\n",
    "<meta charset=\"UTF-8\">\\\n",
    "</head>\\\n",
    "<style type=\"text/css\">\\n.iframe {\\\n",
    "  margin-top: 20px;\\\n",
    "  margin-bottom: 30px;\n",
    "  padding-left: -90px;\\n\\\n",
    "  .h1 {\\\n",
    "  font-size:48px;\\\n",
    "  align:center;\\\n",
    "}\\\n",
    "}</style>\\n\"\"\""
   ]
  },
  {
   "cell_type": "code",
   "execution_count": 5,
   "metadata": {
    "collapsed": true
   },
   "outputs": [],
   "source": [
    "termsFile=csv.reader(open('out.csv','r'),delimiter='\\t')\n",
    "termsDict={}\n",
    "\n",
    "for line in termsFile:\n",
    "    termsDict[line[2]]=line[0:2]\n",
    "    termsDict[line[2]].extend(line[3:]+[line[2]])\n",
    "    # Dictionary of each term in thesaurus, Key is English term, value is list of translations [AR,CN,FR,RU,FR,EN]\n",
    "    # e.g. termsDict['electronic publications']=['لمنشورات الإلكترونية','电子出版物','publications electroniques'\n",
    "    # 'Электронные издания','publicaciones electronicas','electronic publications']\n"
   ]
  },
  {
   "cell_type": "code",
   "execution_count": 6,
   "metadata": {
    "collapsed": false
   },
   "outputs": [
    {
     "data": {
      "text/plain": [
       "[u'RU', u'FR', u'EN', u'CN', u'AR', u'ES']"
      ]
     },
     "execution_count": 6,
     "metadata": {},
     "output_type": "execute_result"
    }
   ],
   "source": [
    "d.keys()"
   ]
  },
  {
   "cell_type": "code",
   "execution_count": 7,
   "metadata": {
    "collapsed": false
   },
   "outputs": [
    {
     "name": "stdout",
     "output_type": "stream",
     "text": [
      "RU 7107\n",
      "FR 7116\n",
      "EN 7118\n",
      "CN 7055\n",
      "AR 7082\n",
      "ES 7117\n"
     ]
    }
   ],
   "source": [
    "for lang in d.keys():\n",
    "    print lang,len(d[lang].keys())"
   ]
  },
  {
   "cell_type": "code",
   "execution_count": 8,
   "metadata": {
    "collapsed": true
   },
   "outputs": [],
   "source": [
    "srcString='\"https://books.google.com/ngrams/interactive_chart?content=peace%2Cwar&year_start=1800&year_end=2000&corpus=18&smoothing=0&share=&direct_url=t1%3B%2Cpeace%3B%2Cc0%3B.t1%3B%2Cwar%3B%2Cc0\"'"
   ]
  },
  {
   "cell_type": "code",
   "execution_count": 9,
   "metadata": {
    "collapsed": false
   },
   "outputs": [],
   "source": [
    "def getIframeSource(terms,nLang=u'EN'):\n",
    "    corpusHash={u'CN':23,u'FR':19,u'EN':15,u'RU':25,u'ES':21}\n",
    "    # These are the IDs for each language in n-gram widget\n",
    "    \n",
    "    corpusId=corpusHash[nLang]\n",
    "    corpusId=unicode(corpusId)\n",
    "    terms=[term.decode('utf-8').lower() for term in terms]\n",
    "    \n",
    "    height=u'150'\n",
    "    width=u'300'\n",
    "    \n",
    "    smoothing='10'\n",
    "    \n",
    "    if len(terms)==1:\n",
    "        print 'Single',lang\n",
    "        returnString=u'<iframe name=\"'+lang+'\" src=\"https://books.google.com/ngrams/interactive_chart?content='\n",
    "        returnString+=terms[0]\n",
    "        returnString+=u'&year_start='+start+'&year_end='+end\n",
    "        returnString+=u'&case_insensitive=on&corpus='\n",
    "        returnString+=corpusId\n",
    "        returnString+=u'&smoothing='+smoothing+u'&share=&direct_url=t1%3B%2C'\n",
    "        returnString+=terms[0]\n",
    "        returnString+=u'%3B%2Cc0\" width='+width+' height='+height+' marginwidth=0 marginheight=0 hspace=-100 vspace=0 frameborder=0 scrolling=no></iframe>'\n",
    "        return returnString\n",
    "    else:\n",
    "        print 'Multiple',lang\n",
    "        print terms\n",
    "        if len(terms)>4:\n",
    "            terms=terms[0:4]\n",
    "            print 'Limiting:',terms\n",
    "        returnString=u'<iframe name=\"'+lang+'\" src=\"https://books.google.com/ngrams/interactive_chart?content='\n",
    "        returnString+=u','.join(terms)\n",
    "        returnString+=u'&year_start='+start+'&year_end='+end\n",
    "        returnString+=u'&case_insensitive=on&corpus='\n",
    "        returnString+=corpusId\n",
    "        returnString+=u'&smoothing='+smoothing+u'&share=&direct_url='\n",
    "        returnString+=u'.'.join(['t1%3B%2C'+t+'%3B%2Cc0%3B' for t in terms[0:-1]])\n",
    "        returnString+=u'.t1%3B%2C'+terms[-1]#+u'%3B%2Cc0'\n",
    "        returnString+=u'%3B%2Cc0\" width='+width+' height='+height+' marginwidth=0 marginheight=0 hspace=-100 vspace=0 frameborder=0 scrolling=no></iframe>'\n",
    "        return returnString\n",
    "\n"
   ]
  },
  {
   "cell_type": "code",
   "execution_count": 10,
   "metadata": {
    "collapsed": true
   },
   "outputs": [],
   "source": [
    "def writeLang(l):return None#htmlFile.write('<h1 align=\"center\">%s</h1>' % l)"
   ]
  },
  {
   "cell_type": "code",
   "execution_count": 11,
   "metadata": {
    "collapsed": true
   },
   "outputs": [],
   "source": [
    "def getTermString(term):\n",
    "    returnString=term+''\n",
    "    return '%s (%s - %s)' % (term,start,end)"
   ]
  },
  {
   "cell_type": "code",
   "execution_count": 12,
   "metadata": {
    "collapsed": false
   },
   "outputs": [
    {
     "name": "stdout",
     "output_type": "stream",
     "text": [
      "supersonic aircraft\n",
      "Multiple ES\n",
      "[u'supersonic aircraft', u'aircraft noise']\n",
      "Single CN\n",
      "Multiple FR\n",
      "[u'aeronefs supersoniques', u'bruit des aeronefs']\n",
      "Single RU\n",
      "Multiple ES\n",
      "[u'aeronaves supersonicas', u'ruido causado por aeronaves']\n",
      "libyans\n",
      "Multiple ES\n",
      "[u'libyans', u'berbers', u'libya']\n",
      "Single CN\n",
      "Multiple FR\n",
      "[u'libyens', u'berberes', u'libye']\n",
      "Single RU\n",
      "Multiple ES\n",
      "[u'libios', u'bereberes', u'libia']\n",
      "emigration law\n",
      "Multiple ES\n",
      "[u'emigration law', u'emigration', u'freedom of movement', u'immigration law']\n",
      "Single CN\n",
      "Multiple FR\n",
      "[u\"droit de l'emigration\", u\"droit de l'immigration\", u'emigration', u'liberte de circulation']\n",
      "Single RU\n",
      "Multiple ES\n",
      "[u'derecho de la emigracion', u'derecho de la inmigracion', u'emigracion', u'libertad de circulacion']\n",
      "cocoa\n",
      "Multiple ES\n",
      "[u'cocoa', u'chocolate']\n",
      "Single CN\n",
      "Multiple FR\n",
      "[u'cacao', u'chocolat']\n",
      "Single RU\n",
      "Multiple ES\n",
      "[u'cacao', u'chocolate']\n",
      "railway traffic\n",
      "Multiple ES\n",
      "[u'railway traffic', u'railway management', u'railway networks', u'railway safety', u'railway transport']\n",
      "Limiting: [u'railway traffic', u'railway management', u'railway networks', u'railway safety']\n",
      "Single CN\n",
      "Multiple FR\n",
      "[u'trafic ferroviaire', u'gestion ferroviaire', u'reseaux ferroviaires', u'securite ferroviaire', u'transport ferroviaire']\n",
      "Limiting: [u'trafic ferroviaire', u'gestion ferroviaire', u'reseaux ferroviaires', u'securite ferroviaire']\n",
      "Single RU\n",
      "Multiple ES\n",
      "[u'trafico ferroviario', u'administracion de ferrocarriles', u'redes ferroviarias', u'seguridad ferroviaria', u'transporte ferroviario']\n",
      "Limiting: [u'trafico ferroviario', u'administracion de ferrocarriles', u'redes ferroviarias', u'seguridad ferroviaria']\n",
      "emission inventories\n",
      "Multiple ES\n",
      "[u'emission inventories', u'air pollutants', u'air pollution', u'pollutant levels', u'pollutant modelling', u'pollution control', u'pollution sources']\n",
      "Limiting: [u'emission inventories', u'air pollutants', u'air pollution', u'pollutant levels']\n",
      "Single CN\n",
      "Multiple FR\n",
      "[u'inventaires des emissions', u'lutte anti-pollution', u'modelisation des polluants', u'niveau des polluants', u'polluants atmospheriques', u'pollution atmospherique', u'sources de pollution']\n",
      "Limiting: [u'inventaires des emissions', u'lutte anti-pollution', u'modelisation des polluants', u'niveau des polluants']\n",
      "Single RU\n",
      "Multiple ES\n",
      "[u'inventarios de emisiones atmosfericas', u'contaminacion atmosferica', u'contaminantes atmosfericos', u'fuentes de contaminacion', u'lucha contra la contaminacion', u'modelos de contaminantes', u'nivel de los contaminantes']\n",
      "Limiting: [u'inventarios de emisiones atmosfericas', u'contaminacion atmosferica', u'contaminantes atmosfericos', u'fuentes de contaminacion']\n",
      "trade statistics\n",
      "Multiple ES\n",
      "[u'trade statistics', u'trade projections']\n",
      "Single CN\n",
      "Multiple FR\n",
      "[u'statistiques commerciales', u'projections commerciales']\n",
      "Single RU\n",
      "Multiple ES\n",
      "[u'estadisticas comerciales', u'proyecciones comerciales']\n",
      "utilitarianism\n",
      "Single ES\n",
      "Single CN\n",
      "Single FR\n",
      "Single RU\n",
      "Single ES\n",
      "scrap metal industry\n",
      "Multiple ES\n",
      "[u'scrap metal industry', u'metal products', u'metalworking industry', u'recycling', u'scrap metals']\n",
      "Limiting: [u'scrap metal industry', u'metal products', u'metalworking industry', u'recycling']\n",
      "Single CN\n",
      "Multiple FR\n",
      "[u'industrie des dechets metalliques', u'dechets metalliques', u'metallurgie de transformation', u'produits metalliques', u'recyclage']\n",
      "Limiting: [u'industrie des dechets metalliques', u'dechets metalliques', u'metallurgie de transformation', u'produits metalliques']\n",
      "Single RU\n",
      "Multiple ES\n",
      "[u'industria de la chatarra', u'chatarra', u'industria metalmecanica', u'productos metalicos', u'reciclaje']\n",
      "Limiting: [u'industria de la chatarra', u'chatarra', u'industria metalmecanica', u'productos metalicos']\n",
      "population trends\n",
      "Multiple ES\n",
      "[u'population trends', u'demographic analysis', u'demographic history', u'demography', u'population', u'population dynamics', u'population forecasts', u'population projections', u'stable population']\n",
      "Limiting: [u'population trends', u'demographic analysis', u'demographic history', u'demography']\n",
      "Single CN\n",
      "Multiple FR\n",
      "[u'tendances demographiques', u'analyse demographique', u'demographie', u'dynamique de la population', u'histoire demographique', u'population', u'population stable', u'previsions de population', u'projections de population']\n",
      "Limiting: [u'tendances demographiques', u'analyse demographique', u'demographie', u'dynamique de la population']\n",
      "Single RU\n",
      "Multiple ES\n",
      "[u'tendencias demograficas', u'analisis demografico', u'demografia', u'dinamica de la poblacion', u'historia demografica', u'poblacion', u'poblacion estable', u'pronosticos de poblacion', u'proyecciones de poblacion']\n",
      "Limiting: [u'tendencias demograficas', u'analisis demografico', u'demografia', u'dinamica de la poblacion']\n"
     ]
    }
   ],
   "source": [
    "with open('iframes.html','w') as htmlFile:\n",
    "    htmlFile.write(header)\n",
    "    \n",
    "    for term in random.sample(d['EN'].keys(),10):\n",
    "        print term\n",
    "        writeLang('EN')\n",
    "        htmlFile.write(\"\"\"<table border=\"0\" cellpadding=\"0\" cellspacing=\"0\" width=\"100%\" height=\"200px\"><tr>\\n\"\"\")\n",
    "        # Open table\n",
    "        termString=getTermString(term)\n",
    "        htmlFile.write('<tr><th colspan=\"5\"><h1 align=\"center\">%s</h1></th><tr>' % termString)\n",
    "        htmlFile.write(\"<tr><td>English (%s)</td><td>Chinese (%s)</td><td>French (%s)</td>\\\n",
    "        <td>Russian (%s)</td><td>Spanish (%s)</td></tr>\" % tuple([term.encode('utf-8')]+(termsDict[term][1:-1])))\n",
    "        # Write row of languages\n",
    "        htmlFile.write('\\n'+\"<tr>\")\n",
    "        # Open row\n",
    "\n",
    "        try:relatedTerms=d['EN'][term]['Related terms']\n",
    "        except:relatedTerms=[]\n",
    "            \n",
    "        srcString=getIframeSource([term]+relatedTerms)\n",
    "        htmlFile.write(\"\"\"<div style=\"padding:-50px;\"><td width=300px>\"\"\")\n",
    "        # Open cell\n",
    "        \n",
    "        htmlFile.write(srcString+'\\n')\n",
    "        htmlFile.write(\"</td></div>\"+'\\n')\n",
    "        # Close cell\n",
    "\n",
    "        for term,lang in zip(termsDict[term][1:-1],['CN','FR','RU','ES']):\n",
    "\n",
    "            try:relatedTerms=d[lang][term]['Related terms']\n",
    "            except:relatedTerms=[]\n",
    "\n",
    "            srcString=getIframeSource([term]+relatedTerms,lang)\n",
    "            htmlFile.write(\"<td>\")\n",
    "            # Open cell\n",
    "            writeLang(lang)\n",
    "            htmlFile.write(srcString.encode('utf-8')+'\\n')\n",
    "            htmlFile.write(\"</td>\")\n",
    "            # Close cell\n",
    "\n",
    "        htmlFile.write(\"<tr>\")\n",
    "        # Close row"
   ]
  },
  {
   "cell_type": "code",
   "execution_count": 13,
   "metadata": {
    "collapsed": false
   },
   "outputs": [
    {
     "data": {
      "text/plain": [
       "[(u'differential equations', {u'Related terms': [u'CALCULUS']}),\n",
       " (u'jihad', {u'Related terms': [u'ISLAM', u'WAR']})]"
      ]
     },
     "execution_count": 13,
     "metadata": {},
     "output_type": "execute_result"
    }
   ],
   "source": [
    "d['EN'].items()[0:2]"
   ]
  },
  {
   "cell_type": "code",
   "execution_count": 14,
   "metadata": {
    "collapsed": false
   },
   "outputs": [
    {
     "data": {
      "text/plain": [
       "'<iframe name=\"ngram_chart\" src=\"https://books.google.com/ngrams/interactive_chart?content=war%2Cpeace&year_start=1800&year_end=2000&corpus=17&smoothing=0&share=&direct_url=t1%3B%2Cwar%3B%2Cc0%3B.t1%3B%2Cpeace%3B%2Cc0\" width=900 height=500 marginwidth=0 marginheight=0 hspace=0 vspace=0 frameborder=0 scrolling=no></iframe>'"
      ]
     },
     "execution_count": 14,
     "metadata": {},
     "output_type": "execute_result"
    }
   ],
   "source": [
    "\"\"\"<iframe name=\"ngram_chart\" src=\"https://books.google.com/ngrams/interactive_chart?content=war%2Cpeace&year_start=1800&year_end=2000&corpus=17&smoothing=0&share=&direct_url=t1%3B%2Cwar%3B%2Cc0%3B.t1%3B%2Cpeace%3B%2Cc0\" width=900 height=500 marginwidth=0 marginheight=0 hspace=0 vspace=0 frameborder=0 scrolling=no></iframe>\"\"\""
   ]
  },
  {
   "cell_type": "code",
   "execution_count": 18,
   "metadata": {
    "collapsed": false
   },
   "outputs": [
    {
     "data": {
      "text/html": [
       "\n",
       "        <iframe\n",
       "            width=\"900\"\n",
       "            height=\"500\"\n",
       "            src=\"https://books.google.com/ngrams/interactive_chart?content=peace,war&year_start=1800&year_end=2000&corpus=18&smoothing=0&share=&direct_url=t1%3B%2Cpeace%3B%2Cc0\"\n",
       "            frameborder=\"0\"\n",
       "            allowfullscreen\n",
       "        ></iframe>\n",
       "        "
      ],
      "text/plain": [
       "<IPython.lib.display.IFrame at 0x7f70e8a8f410>"
      ]
     },
     "execution_count": 18,
     "metadata": {},
     "output_type": "execute_result"
    }
   ],
   "source": [
    "term='peace'\n",
    "srcString=\"https://books.google.com/ngrams/interactive_chart?content=peace,war&year_start=1800&year_end=2000&corpus=18&smoothing=0&share=&direct_url=t1%3B%2C\"+term+\"%3B%2Cc0\"\n",
    "IFrame(srcString,width=900,height=500)"
   ]
  },
  {
   "cell_type": "code",
   "execution_count": null,
   "metadata": {
    "collapsed": true
   },
   "outputs": [],
   "source": []
  }
 ],
 "metadata": {
  "kernelspec": {
   "display_name": "Python 2",
   "language": "python",
   "name": "python2"
  },
  "language_info": {
   "codemirror_mode": {
    "name": "ipython",
    "version": 2
   },
   "file_extension": ".py",
   "mimetype": "text/x-python",
   "name": "python",
   "nbconvert_exporter": "python",
   "pygments_lexer": "ipython2",
   "version": "2.7.6"
  }
 },
 "nbformat": 4,
 "nbformat_minor": 0
}
